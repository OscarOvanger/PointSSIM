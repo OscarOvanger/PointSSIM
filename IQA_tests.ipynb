{
 "cells": [
  {
   "cell_type": "code",
   "execution_count": 1,
   "metadata": {},
   "outputs": [],
   "source": [
    "# Use env (Python 3.11.0) for this\n",
    "import numpy as np\n",
    "import matplotlib.pyplot as plt\n",
    "from image_similarity_measures import quality_metrics\n",
    "import os"
   ]
  },
  {
   "cell_type": "code",
   "execution_count": 2,
   "metadata": {},
   "outputs": [
    {
     "data": {
      "text/plain": [
       "'/Users/oscaro/Library/CloudStorage/OneDrive-NTNU/PhD/Paper_3/Anchors/Code'"
      ]
     },
     "execution_count": 2,
     "metadata": {},
     "output_type": "execute_result"
    }
   ],
   "source": [
    "os.getcwd()"
   ]
  },
  {
   "cell_type": "code",
   "execution_count": 3,
   "metadata": {},
   "outputs": [],
   "source": [
    "#Load the images\n",
    "# Go up one folder\n",
    "os.chdir('..')\n",
    "# Go down to the data folder\n",
    "os.chdir('Data')\n",
    "# Load the data\n",
    "MPS_data = np.load('ragnar_data.npy')\n",
    "TGRF_data = np.load('TGRF_data.npy')\n",
    "TGRF_data_small = np.load('TGRF_data_small.npy')\n",
    "TGRF_data_complex = np.load('TGRF_data_complex.npy')\n",
    "curved_straight_data = np.load('curved_straight_images.npz')\n",
    "# Get the curved and straight separately\n",
    "curved_data = curved_straight_data['curved']\n",
    "straight_data = curved_straight_data['straight']\n",
    "contact_gap_images = np.load('contact_gap_images.npz')\n",
    "contact_images = contact_gap_images['contact']\n",
    "gap_images = contact_gap_images['gap']\n",
    "all_data = [MPS_data, TGRF_data, TGRF_data_small, TGRF_data_complex, curved_data, straight_data, contact_images, gap_images]"
   ]
  },
  {
   "cell_type": "code",
   "execution_count": 4,
   "metadata": {},
   "outputs": [],
   "source": [
    "rmse = quality_metrics.rmse(MPS_data[0], MPS_data[1])"
   ]
  },
  {
   "cell_type": "code",
   "execution_count": 6,
   "metadata": {},
   "outputs": [
    {
     "ename": "IndexError",
     "evalue": "tuple index out of range",
     "output_type": "error",
     "traceback": [
      "\u001b[0;31m---------------------------------------------------------------------------\u001b[0m",
      "\u001b[0;31mIndexError\u001b[0m                                Traceback (most recent call last)",
      "Cell \u001b[0;32mIn[6], line 1\u001b[0m\n\u001b[0;32m----> 1\u001b[0m \u001b[43mquality_metrics\u001b[49m\u001b[38;5;241;43m.\u001b[39;49m\u001b[43mssim\u001b[49m\u001b[43m(\u001b[49m\u001b[43mMPS_data\u001b[49m\u001b[43m[\u001b[49m\u001b[38;5;241;43m0\u001b[39;49m\u001b[43m]\u001b[49m\u001b[43m,\u001b[49m\u001b[43m \u001b[49m\u001b[43mMPS_data\u001b[49m\u001b[43m[\u001b[49m\u001b[38;5;241;43m1\u001b[39;49m\u001b[43m]\u001b[49m\u001b[43m)\u001b[49m\n",
      "File \u001b[0;32m~/.julia/environments/v1.6/.CondaPkg/env/lib/python3.11/site-packages/image_similarity_measures/quality_metrics.py:222\u001b[0m, in \u001b[0;36mssim\u001b[0;34m(org_img, pred_img, max_p)\u001b[0m\n\u001b[1;32m    217\u001b[0m \u001b[38;5;250m\u001b[39m\u001b[38;5;124;03m\"\"\"\u001b[39;00m\n\u001b[1;32m    218\u001b[0m \u001b[38;5;124;03mStructural Simularity Index\u001b[39;00m\n\u001b[1;32m    219\u001b[0m \u001b[38;5;124;03m\"\"\"\u001b[39;00m\n\u001b[1;32m    220\u001b[0m _assert_image_shapes_equal(org_img, pred_img, \u001b[38;5;124m\"\u001b[39m\u001b[38;5;124mSSIM\u001b[39m\u001b[38;5;124m\"\u001b[39m)\n\u001b[0;32m--> 222\u001b[0m \u001b[38;5;28;01mreturn\u001b[39;00m \u001b[43mstructural_similarity\u001b[49m\u001b[43m(\u001b[49m\u001b[43morg_img\u001b[49m\u001b[43m,\u001b[49m\u001b[43m \u001b[49m\u001b[43mpred_img\u001b[49m\u001b[43m,\u001b[49m\u001b[43m \u001b[49m\u001b[43mdata_range\u001b[49m\u001b[38;5;241;43m=\u001b[39;49m\u001b[43mmax_p\u001b[49m\u001b[43m,\u001b[49m\u001b[43m \u001b[49m\u001b[43mchannel_axis\u001b[49m\u001b[38;5;241;43m=\u001b[39;49m\u001b[38;5;241;43m2\u001b[39;49m\u001b[43m)\u001b[49m\n",
      "File \u001b[0;32m~/.julia/environments/v1.6/.CondaPkg/env/lib/python3.11/site-packages/skimage/metrics/_structural_similarity.py:123\u001b[0m, in \u001b[0;36mstructural_similarity\u001b[0;34m(im1, im2, win_size, gradient, data_range, channel_axis, gaussian_weights, full, **kwargs)\u001b[0m\n\u001b[1;32m    116\u001b[0m args \u001b[38;5;241m=\u001b[39m \u001b[38;5;28mdict\u001b[39m(win_size\u001b[38;5;241m=\u001b[39mwin_size,\n\u001b[1;32m    117\u001b[0m             gradient\u001b[38;5;241m=\u001b[39mgradient,\n\u001b[1;32m    118\u001b[0m             data_range\u001b[38;5;241m=\u001b[39mdata_range,\n\u001b[1;32m    119\u001b[0m             channel_axis\u001b[38;5;241m=\u001b[39m\u001b[38;5;28;01mNone\u001b[39;00m,\n\u001b[1;32m    120\u001b[0m             gaussian_weights\u001b[38;5;241m=\u001b[39mgaussian_weights,\n\u001b[1;32m    121\u001b[0m             full\u001b[38;5;241m=\u001b[39mfull)\n\u001b[1;32m    122\u001b[0m args\u001b[38;5;241m.\u001b[39mupdate(kwargs)\n\u001b[0;32m--> 123\u001b[0m nch \u001b[38;5;241m=\u001b[39m \u001b[43mim1\u001b[49m\u001b[38;5;241;43m.\u001b[39;49m\u001b[43mshape\u001b[49m\u001b[43m[\u001b[49m\u001b[43mchannel_axis\u001b[49m\u001b[43m]\u001b[49m\n\u001b[1;32m    124\u001b[0m mssim \u001b[38;5;241m=\u001b[39m np\u001b[38;5;241m.\u001b[39mempty(nch, dtype\u001b[38;5;241m=\u001b[39mfloat_type)\n\u001b[1;32m    126\u001b[0m \u001b[38;5;28;01mif\u001b[39;00m gradient:\n",
      "\u001b[0;31mIndexError\u001b[0m: tuple index out of range"
     ]
    }
   ],
   "source": [
    "quality_metrics.ssim(MPS_data[0], MPS_data[1])"
   ]
  }
 ],
 "metadata": {
  "kernelspec": {
   "display_name": "Python 3",
   "language": "python",
   "name": "python3"
  },
  "language_info": {
   "codemirror_mode": {
    "name": "ipython",
    "version": 3
   },
   "file_extension": ".py",
   "mimetype": "text/x-python",
   "name": "python",
   "nbconvert_exporter": "python",
   "pygments_lexer": "ipython3",
   "version": "3.11.0"
  }
 },
 "nbformat": 4,
 "nbformat_minor": 2
}
